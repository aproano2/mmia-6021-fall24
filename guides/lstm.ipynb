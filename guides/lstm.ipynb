{
 "cells": [
  {
   "cell_type": "code",
   "execution_count": 82,
   "id": "128217ab-576d-4f99-8feb-58ba99319da9",
   "metadata": {},
   "outputs": [],
   "source": [
    "import torch\n",
    "import re\n",
    "import nltk\n",
    "import random\n",
    "import numpy as np\n",
    "from torch.utils.data import Dataset, DataLoader\n",
    "import torch.nn.functional as F\n",
    "import torch.nn as nn\n",
    "from nltk.corpus import stopwords\n",
    "from nltk.stem.snowball import SnowballStemmer\n",
    "from nltk.tokenize import RegexpTokenizer, word_tokenize,sent_tokenize\n",
    "from collections import Counter\n",
    "import matplotlib.pyplot as plt\n",
    "from scipy.spatial import distance\n",
    "from tqdm import tqdm"
   ]
  },
  {
   "cell_type": "code",
   "execution_count": 25,
   "id": "eed7fd8e-3461-46f7-b823-cfa9111fd6b0",
   "metadata": {},
   "outputs": [
    {
     "name": "stderr",
     "output_type": "stream",
     "text": [
      "[nltk_data] Downloading package punkt_tab to\n",
      "[nltk_data]     /Users/aproano/nltk_data...\n",
      "[nltk_data]   Unzipping tokenizers/punkt_tab.zip.\n"
     ]
    },
    {
     "data": {
      "text/plain": [
       "True"
      ]
     },
     "execution_count": 25,
     "metadata": {},
     "output_type": "execute_result"
    }
   ],
   "source": [
    "nltk.download('punkt_tab')"
   ]
  },
  {
   "cell_type": "code",
   "execution_count": 5,
   "id": "350e7724-8d7c-40f2-ac7f-07000c10f38d",
   "metadata": {},
   "outputs": [
    {
     "name": "stdout",
     "output_type": "stream",
     "text": [
      "tensor([1.], device='mps:0')\n"
     ]
    }
   ],
   "source": [
    "if torch.backends.mps.is_available():\n",
    "    mps_device = torch.device(\"mps\")\n",
    "    x = torch.ones(1, device=mps_device)\n",
    "    print (x)\n",
    "else:\n",
    "    print (\"MPS device not found.\")  "
   ]
  },
  {
   "cell_type": "code",
   "execution_count": 6,
   "id": "10dc3f66-516f-4bc2-bec0-d36595e09eb7",
   "metadata": {},
   "outputs": [],
   "source": [
    "ss = SnowballStemmer('spanish')\n",
    "sw = stopwords.words('spanish')\n",
    "tokenizer = RegexpTokenizer(r'\\w+')"
   ]
  },
  {
   "cell_type": "code",
   "execution_count": 107,
   "id": "2173ee82-a8cb-4b0e-99b3-aff4137eaea2",
   "metadata": {},
   "outputs": [],
   "source": [
    "text = open('./data/gabriel_garcia_marquez_cien_annos_soledad.txt', 'r').read().lower()\n",
    "#text = open('./data/cap1.txt', 'r').read().lower()"
   ]
  },
  {
   "cell_type": "code",
   "execution_count": 108,
   "id": "cf62356c-8423-4ee2-94fa-bcba6b07cbae",
   "metadata": {},
   "outputs": [],
   "source": [
    "# clean sentences\n",
    "def clean_data(data):\n",
    "    \n",
    "    repl = ''\n",
    "    # remove non-alphanumeric\n",
    "    for pattern in set(re.findall(r\"[^\\w ]\", data)):\n",
    "        repl = ''\n",
    "        if pattern == '-':\n",
    "            repl = ' '\n",
    "        # keep period, apostrophe\n",
    "        if pattern != '.' and pattern != \"\\'\":\n",
    "            data = re.sub(\"\\\\\" + pattern, repl, data)\n",
    "            \n",
    "    return data\n"
   ]
  },
  {
   "cell_type": "code",
   "execution_count": 109,
   "id": "87301f6b-5b75-4279-a66d-10c151864df5",
   "metadata": {},
   "outputs": [],
   "source": [
    "# sentence tokenization\n",
    "def split_data(data, num_sentences = -1):\n",
    "\n",
    "    if num_sentences == -1:\n",
    "        sentences = sent_tokenize(data)\n",
    "    else:\n",
    "        sentences = sent_tokenize(data)[:num_sentences]\n",
    "    \n",
    "    # word tokenization\n",
    "    words = set()\n",
    "    for sent in sentences:\n",
    "        for word in str.split(sent,' '):\n",
    "            words.add(word)\n",
    "    words=list(words)\n",
    "    \n",
    "    # add empty string in list of words. During padding 0s can be interpreted as empty string\n",
    "    words.insert(0,\"\")\n",
    "\n",
    "    return sentences, words"
   ]
  },
  {
   "cell_type": "code",
   "execution_count": 110,
   "id": "47979e9d-bb23-4eae-aa83-c54e265e1723",
   "metadata": {},
   "outputs": [],
   "source": [
    "data = clean_data(text)"
   ]
  },
  {
   "cell_type": "code",
   "execution_count": 111,
   "id": "2f8f217f-fe11-4146-9f6d-20bb7d39a61c",
   "metadata": {},
   "outputs": [],
   "source": [
    "sentences, words = split_data(data)"
   ]
  },
  {
   "cell_type": "code",
   "execution_count": 112,
   "id": "6b820c0b-25fb-4c22-92f3-c1195c116e8c",
   "metadata": {},
   "outputs": [
    {
     "data": {
      "text/plain": [
       "['gabriel garcía márquez cien años de soledad editado por ediciones la cueva para j omi garcía ascot y maría luisa elio cien años de soledad gabriel garcía márquez muchos años después frente al pelotón de fusilamiento el coronel aureliano buendía había de recordar aquella tarde remota en que su padre lo llevó a conocer el hielo.',\n",
       " 'macondo era entonces una aldea de veinte casas de barro y cañabrava construidas a la orilla de un río de aguas diáfanas que se precipitaban por un lecho de piedras pulidas blancas y enormes como huevos prehistóricos.',\n",
       " 'el mundo era tan reciente que muchas cosas carecían de nombre y para mencionarlas había que señalarías con el dedo.']"
      ]
     },
     "execution_count": 112,
     "metadata": {},
     "output_type": "execute_result"
    }
   ],
   "source": [
    "sentences[:3]"
   ]
  },
  {
   "cell_type": "code",
   "execution_count": 113,
   "id": "63bed4e1-2446-4e9f-b9a4-b1b6675aa70b",
   "metadata": {},
   "outputs": [
    {
     "data": {
      "text/plain": [
       "['',\n",
       " '',\n",
       " 'meses.',\n",
       " 'cadencia',\n",
       " 'desnuda.',\n",
       " 'vagaba',\n",
       " 'pagando',\n",
       " 'cuarteado',\n",
       " 'varias',\n",
       " 'ventruda']"
      ]
     },
     "execution_count": 113,
     "metadata": {},
     "output_type": "execute_result"
    }
   ],
   "source": [
    "words[:10]"
   ]
  },
  {
   "cell_type": "code",
   "execution_count": 114,
   "id": "4d9b1e97-68df-4108-85b3-d8d345669dda",
   "metadata": {},
   "outputs": [],
   "source": [
    "sent_sequences = []\n",
    "seq_len = 6\n",
    "for i in range(len(sentences)):\n",
    "    words_in_sent = str.split(sentences[i],' ')\n",
    "    for j in range(1,len(words_in_sent)):\n",
    "        if j <= (seq_len):\n",
    "            sent_sequences.append(words_in_sent[:j])\n",
    "        elif j > seq_len and j < len(words_in_sent):\n",
    "            sent_sequences.append(words_in_sent[j - seq_len:j])\n",
    "        elif j > len(words_in_sent) - seq_len:\n",
    "            sent_sequences.append(words_in_sent[j - seq_len:])"
   ]
  },
  {
   "cell_type": "code",
   "execution_count": 115,
   "id": "dad42002-c8d1-4992-9610-a4bba8396df0",
   "metadata": {},
   "outputs": [
    {
     "data": {
      "text/plain": [
       "[['gabriel'],\n",
       " ['gabriel', 'garcía'],\n",
       " ['gabriel', 'garcía', 'márquez'],\n",
       " ['gabriel', 'garcía', 'márquez', 'cien'],\n",
       " ['gabriel', 'garcía', 'márquez', 'cien', 'años'],\n",
       " ['gabriel', 'garcía', 'márquez', 'cien', 'años', 'de']]"
      ]
     },
     "execution_count": 115,
     "metadata": {},
     "output_type": "execute_result"
    }
   ],
   "source": [
    "sent_sequences[:6]"
   ]
  },
  {
   "cell_type": "code",
   "execution_count": 116,
   "id": "8a5374d3-d80a-4f64-a85a-5d80c9c0be99",
   "metadata": {},
   "outputs": [],
   "source": [
    "predictors = []\n",
    "class_labels = []\n",
    "for i in range(len(sent_sequences)):\n",
    "    predictors.append(sent_sequences[i][:-1])\n",
    "    class_labels.append(sent_sequences[i][-1])"
   ]
  },
  {
   "cell_type": "code",
   "execution_count": 117,
   "id": "a51715e8-a011-4283-bc2f-c1d8ddaa3a18",
   "metadata": {},
   "outputs": [
    {
     "data": {
      "text/plain": [
       "[[],\n",
       " ['gabriel'],\n",
       " ['gabriel', 'garcía'],\n",
       " ['gabriel', 'garcía', 'márquez'],\n",
       " ['gabriel', 'garcía', 'márquez', 'cien'],\n",
       " ['gabriel', 'garcía', 'márquez', 'cien', 'años'],\n",
       " ['garcía', 'márquez', 'cien', 'años', 'de']]"
      ]
     },
     "execution_count": 117,
     "metadata": {},
     "output_type": "execute_result"
    }
   ],
   "source": [
    "predictors[:7]"
   ]
  },
  {
   "cell_type": "code",
   "execution_count": 118,
   "id": "ec99a078-bab3-4aca-988d-423b2d517a34",
   "metadata": {},
   "outputs": [
    {
     "data": {
      "text/plain": [
       "['gabriel', 'garcía', 'márquez', 'cien', 'años', 'de', 'soledad']"
      ]
     },
     "execution_count": 118,
     "metadata": {},
     "output_type": "execute_result"
    }
   ],
   "source": [
    "class_labels[:7]"
   ]
  },
  {
   "cell_type": "code",
   "execution_count": 119,
   "id": "56789086-4906-4000-9bdb-211c59a158c0",
   "metadata": {},
   "outputs": [],
   "source": [
    "pad_predictors = []\n",
    "for i in range(len(predictors)):\n",
    "    emptypad = [''] * (seq_len - len(predictors[i]) - 1)\n",
    "    emptypad.extend(predictors[i])\n",
    "    pad_predictors.append(emptypad)"
   ]
  },
  {
   "cell_type": "code",
   "execution_count": 120,
   "id": "b2f09467-e02b-4ba7-ac90-0f2cb724ee6f",
   "metadata": {},
   "outputs": [
    {
     "data": {
      "text/plain": [
       "[['', '', '', '', ''],\n",
       " ['', '', '', '', 'gabriel'],\n",
       " ['', '', '', 'gabriel', 'garcía'],\n",
       " ['', '', 'gabriel', 'garcía', 'márquez'],\n",
       " ['', 'gabriel', 'garcía', 'márquez', 'cien'],\n",
       " ['gabriel', 'garcía', 'márquez', 'cien', 'años'],\n",
       " ['garcía', 'márquez', 'cien', 'años', 'de']]"
      ]
     },
     "execution_count": 120,
     "metadata": {},
     "output_type": "execute_result"
    }
   ],
   "source": [
    "pad_predictors[:7]"
   ]
  },
  {
   "cell_type": "code",
   "execution_count": 121,
   "id": "22d74a68-9a61-48fc-bdaa-889f020851ad",
   "metadata": {},
   "outputs": [],
   "source": [
    "ttoi = {token:idx for idx,token in enumerate(words)}\n",
    "itot = {idx:token for token,idx in ttoi.items()}"
   ]
  },
  {
   "cell_type": "code",
   "execution_count": 122,
   "id": "713c326b-92fb-4b61-810c-9813225c5700",
   "metadata": {},
   "outputs": [],
   "source": [
    "for i in range(len(pad_predictors)):\n",
    "    for j in range(len(pad_predictors[i])):\n",
    "        pad_predictors[i][j] = ttoi[pad_predictors[i][j]]\n",
    "    class_labels[i] = ttoi[class_labels[i]]"
   ]
  },
  {
   "cell_type": "code",
   "execution_count": 123,
   "id": "3d163679-f000-4eb3-8b63-5fd8a2ff4ca9",
   "metadata": {},
   "outputs": [
    {
     "data": {
      "text/plain": [
       "[[1, 1, 1, 1, 1],\n",
       " [1, 1, 1, 1, 4318],\n",
       " [1, 1, 1, 4318, 6375],\n",
       " [1, 1, 4318, 6375, 16914],\n",
       " [1, 4318, 6375, 16914, 12029],\n",
       " [4318, 6375, 16914, 12029, 10148],\n",
       " [6375, 16914, 12029, 10148, 12967]]"
      ]
     },
     "execution_count": 123,
     "metadata": {},
     "output_type": "execute_result"
    }
   ],
   "source": [
    "pad_predictors[:7]"
   ]
  },
  {
   "cell_type": "code",
   "execution_count": 124,
   "id": "8d279028-6c6b-4906-a692-d8093ba2353b",
   "metadata": {},
   "outputs": [
    {
     "data": {
      "text/plain": [
       "[4318, 6375, 16914, 12029, 10148, 12967, 3686]"
      ]
     },
     "execution_count": 124,
     "metadata": {},
     "output_type": "execute_result"
    }
   ],
   "source": [
    "class_labels[:7]"
   ]
  },
  {
   "cell_type": "code",
   "execution_count": 125,
   "id": "b384278e-c3a0-40d5-aaad-f76605b73558",
   "metadata": {},
   "outputs": [],
   "source": [
    "for i in range(len(pad_predictors)):\n",
    "    pad_predictors[i]=torch.tensor(pad_predictors[i])\n",
    "pad_predictors=torch.stack(pad_predictors)\n",
    "class_labels=torch.tensor(class_labels)"
   ]
  },
  {
   "cell_type": "code",
   "execution_count": 126,
   "id": "8e3d0e2b-f0f0-4b9e-80ff-ea2308edc61d",
   "metadata": {},
   "outputs": [
    {
     "data": {
      "text/plain": [
       "tensor([[    1,     1,     1,     1,     1],\n",
       "        [    1,     1,     1,     1,  4318],\n",
       "        [    1,     1,     1,  4318,  6375],\n",
       "        [    1,     1,  4318,  6375, 16914],\n",
       "        [    1,  4318,  6375, 16914, 12029],\n",
       "        [ 4318,  6375, 16914, 12029, 10148],\n",
       "        [ 6375, 16914, 12029, 10148, 12967]])"
      ]
     },
     "execution_count": 126,
     "metadata": {},
     "output_type": "execute_result"
    }
   ],
   "source": [
    "pad_predictors[:7]"
   ]
  },
  {
   "cell_type": "code",
   "execution_count": 127,
   "id": "4b0957c5-9291-41d5-adc7-aea23dc686b8",
   "metadata": {},
   "outputs": [
    {
     "data": {
      "text/plain": [
       "tensor([ 4318,  6375, 16914, 12029, 10148, 12967,  3686])"
      ]
     },
     "execution_count": 127,
     "metadata": {},
     "output_type": "execute_result"
    }
   ],
   "source": [
    "class_labels[:7]"
   ]
  },
  {
   "cell_type": "code",
   "execution_count": 128,
   "id": "5e5a581a-f0d0-4155-870e-90a30b1ad43e",
   "metadata": {},
   "outputs": [],
   "source": [
    "# make the data numbers\n",
    "def encode_data(sentences, words, seq_len):\n",
    "    \n",
    "    sent_sequences = []\n",
    "    for i in range(len(sentences)):\n",
    "        words_in_sent = str.split(sentences[i],' ')\n",
    "        for j in range(1,len(words_in_sent)):\n",
    "            if j <= (seq_len):\n",
    "                sent_sequences.append(words_in_sent[:j])\n",
    "            elif j > seq_len and j < len(words_in_sent):\n",
    "                sent_sequences.append(words_in_sent[j-seq_len:j])\n",
    "            elif j > len(words_in_sent)-seq_len:\n",
    "                sent_sequences.append(words_in_sent[j-seq_len:])\n",
    "                \n",
    "\n",
    "    # split into predictors and class_labels\n",
    "    predictors = []\n",
    "    class_labels = []\n",
    "    for i in range(len(sent_sequences)):\n",
    "        predictors.append(sent_sequences[i][:-1])\n",
    "        class_labels.append(sent_sequences[i][-1])\n",
    "    \n",
    "    # pad the predictors manually with Empty strings\n",
    "    pad_predictors = []\n",
    "    for i in range(len(predictors)):\n",
    "        emptypad = ['']*(seq_len-len(predictors[i])-1)\n",
    "        emptypad.extend(predictors[i])\n",
    "        pad_predictors.append(emptypad)\n",
    "        \n",
    "    # tokens to index, and index to tokens\n",
    "    global ttoi\n",
    "    ttoi = {token:idx for idx,token in enumerate(words)}\n",
    "    global itot\n",
    "    itot = {idx:token for token,idx in ttoi.items()}\n",
    "        \n",
    "    # convert each word into their respective index\n",
    "    for i in range(len(pad_predictors)):\n",
    "        for j in range(len(pad_predictors[i])):\n",
    "            pad_predictors[i][j] = word_ind[pad_predictors[i][j]]\n",
    "        class_labels[i] =  word_ind[class_labels[i]]\n",
    "\n",
    "    # convert sequences to tensors\n",
    "    for i in range(len(pad_predictors)):\n",
    "        pad_predictors[i] = torch.tensor(pad_predictors[i])\n",
    "    pad_predictors = torch.stack(pad_predictors)\n",
    "    class_labels = torch.tensor(class_labels)\n",
    "     \n",
    "    return pad_predictors, class_labels"
   ]
  },
  {
   "cell_type": "code",
   "execution_count": 129,
   "id": "5e6ce850-a2ee-46fe-9ccc-e45fb9a28439",
   "metadata": {},
   "outputs": [],
   "source": [
    "class LSTM(nn.Module):\n",
    "    def __init__(self,num_embeddings, embedding_dim, padding_idx, hidden_size, batch_size):\n",
    "        super(LSTM,self).__init__()\n",
    "        self.num_embeddings = num_embeddings\n",
    "        self.embedding_dim = embedding_dim\n",
    "        self.padding_idx = padding_idx\n",
    "        self.hidden_size = hidden_size\n",
    "        self.batch_size = batch_size\n",
    "        \n",
    "        self.embedding = nn.Embedding(num_embeddings, embedding_dim, padding_idx = 0)\n",
    "        self.lstm = nn.LSTM(embedding_dim, hidden_size, num_layers = 1, batch_first = True)\n",
    "        self.expand = nn.Linear(hidden_size, num_embeddings)\n",
    "\n",
    "    def init_hidden(self, batch_size):        \n",
    "        state_h = torch.zeros(1, batch_size, self.hidden_size)\n",
    "        state_c = torch.zeros(1, batch_size, self.hidden_size)\n",
    "        return (state_h,state_c)\n",
    "\n",
    "    def forward(self,input_sequence, state_h,state_c):\n",
    "        \n",
    "        embeds = self.embedding(input_sequence)\n",
    "        output,(state_h,state_c) = self.lstm(embeds, (state_h,state_c))\n",
    "        logits = self.expand(output[:,-1,:])\n",
    "         \n",
    "        return logits,(state_h,state_c)\n",
    "\n",
    "    def topk_sampling(self, logits, topk):\n",
    "        \n",
    "        logits_softmax = torch.nn.functional.softmax(logits,dim = 1)\n",
    "        values,indices = torch.topk(logits_softmax[0],k = topk)\n",
    "        choices = indices.tolist()\n",
    "        sampling = random.sample(choices,1)\n",
    "        \n",
    "        return itot[sampling[0]]\n",
    "        "
   ]
  },
  {
   "cell_type": "code",
   "execution_count": 141,
   "id": "9029c79e-61a9-4431-8f3e-0543d07e348b",
   "metadata": {},
   "outputs": [],
   "source": [
    "# generate sentences\n",
    "def generate_sent(model, init, sent_len, topk):\n",
    "\n",
    "    sentence=init\n",
    "    for k in range(sent_len):\n",
    "        model.eval()\n",
    "        input_indices = []\n",
    "        for word in str.split(sentence,\" \"):\n",
    "            input_indices.append(ttoi[word])\n",
    "        if len(input_indices) < seq_len - 1:\n",
    "            input_tensor = [0] * (seq_len - len(input_indices) - 1)\n",
    "            input_tensor.extend(input_indices)\n",
    "        else:\n",
    "            input_tensor = input_indices[-seq_len + 1:]\n",
    "            \n",
    "        state_h,state_c = model.init_hidden(len(input_tensor))\n",
    "        input_tensor = torch.stack([torch.tensor(input_tensor)])\n",
    "        out,(state_h,state_c) = model(input_tensor.transpose(0,1), state_h, state_c)\n",
    "        \n",
    "        word=model.topk_sampling(out, topk)\n",
    "        \n",
    "        if word != '' and word != str.split(sentence,' ')[-1]:\n",
    "            sentence += \" \" + word\n",
    "\n",
    "    return sentence"
   ]
  },
  {
   "cell_type": "code",
   "execution_count": 131,
   "id": "702ea297-324a-4728-a3ca-e52ef2d5300f",
   "metadata": {},
   "outputs": [],
   "source": [
    "def get_batch(pad_predictors, class_labels, batch_size):\n",
    "    for i in range(0, len(pad_predictors), batch_size):\n",
    "        if i + batch_size < len(pad_predictors):\n",
    "            yield pad_predictors[i : i + batch_size], class_labels[i : i + batch_size]"
   ]
  },
  {
   "cell_type": "code",
   "execution_count": 132,
   "id": "43626fdb-df4f-4c59-b4ad-5541973e66e6",
   "metadata": {},
   "outputs": [],
   "source": [
    "model = LSTM(len(words), embedding_dim=1, padding_idx=0, hidden_size=128, batch_size=64)"
   ]
  },
  {
   "cell_type": "code",
   "execution_count": 133,
   "id": "3fea0535-344c-4985-a885-0ebaa3cc9000",
   "metadata": {},
   "outputs": [],
   "source": [
    "LR = 3e-3\n",
    "EPOCHS = 20\n",
    "batch_size=64\n",
    "criterion = nn.CrossEntropyLoss(ignore_index=0)\n",
    "optimizer = torch.optim.Adam(model.parameters(), lr=LR)"
   ]
  },
  {
   "cell_type": "code",
   "execution_count": 135,
   "id": "64234841-d16e-4680-a013-fba7dd469ecb",
   "metadata": {},
   "outputs": [
    {
     "name": "stderr",
     "output_type": "stream",
     "text": [
      "  0%|                                                                          | 7/2699560 [02:25<15612:51:33, 20.82s/it]\n",
      "  0%|                                                                         | 20/2699560 [05:22<12132:53:17, 16.18s/it]"
     ]
    }
   ],
   "source": [
    "progress_bar = tqdm(range(EPOCHS * len(pad_predictors)))\n",
    "running_loss = []\n",
    "\n",
    "for epoch in range(EPOCHS):\n",
    "    state_h, state_c=model.init_hidden(batch_size)\n",
    "    total_loss = 0\n",
    "    for x, y in get_batch(pad_predictors, class_labels, batch_size):\n",
    "        \n",
    "        model.train()\n",
    "            \n",
    "        state_h=state_h.detach()\n",
    "        state_c=state_c.detach()\n",
    "        logits,(state_h,state_c)=model(x, state_h, state_c)\n",
    "        \n",
    "        optimizer.zero_grad()\n",
    "        loss = criterion(logits, y)\n",
    "        loss_value = loss.item()\n",
    "        total_loss += len(x) * loss_value\n",
    "        loss.backward()\n",
    "        \n",
    "        optimizer.step()\n",
    "    \n",
    "    progress_bar.update()    \n",
    "    total_loss /= len(pad_predictors)\n",
    "    running_loss.append(total_loss)"
   ]
  },
  {
   "cell_type": "code",
   "execution_count": 157,
   "id": "719e4e6f-2b20-4385-802d-fb2536ffde26",
   "metadata": {},
   "outputs": [
    {
     "data": {
      "text/plain": [
       "[<matplotlib.lines.Line2D at 0x1578883e0>]"
      ]
     },
     "execution_count": 157,
     "metadata": {},
     "output_type": "execute_result"
    },
    {
     "data": {
      "image/png": "[encoded data removed]",
      "text/plain": [
       "<Figure size 640x480 with 1 Axes>"
      ]
     },
     "metadata": {},
     "output_type": "display_data"
    }
   ],
   "source": [
    "plt.plot(running_loss)"
   ]
  },
  {
   "cell_type": "code",
   "execution_count": 155,
   "id": "feddb56b-e895-46b0-9b05-5b583111a325",
   "metadata": {},
   "outputs": [
    {
     "data": {
      "text/plain": [
       "'casa en macondo una los en tres haciendo corazón guerra que guerra'"
      ]
     },
     "execution_count": 155,
     "metadata": {},
     "output_type": "execute_result"
    }
   ],
   "source": [
    "generate_sent(model, init='casa en macondo', sent_len=10, topk=25)"
   ]
  },
  {
   "cell_type": "code",
   "execution_count": 164,
   "id": "a41f088f-02fb-423a-89a7-9667dbd4e6d9",
   "metadata": {},
   "outputs": [
    {
     "data": {
      "text/plain": [
       "'amaranta hace al en un con quedar coronel comer primer febrero'"
      ]
     },
     "execution_count": 164,
     "metadata": {},
     "output_type": "execute_result"
    }
   ],
   "source": [
    "generate_sent(model, init='amaranta hace', sent_len=10, topk=25)"
   ]
  },
  {
   "cell_type": "code",
   "execution_count": null,
   "id": "8bbdb396-4fbc-4b93-8f9c-40204ca85ac6",
   "metadata": {},
   "outputs": [],
   "source": []
  },
  {
   "cell_type": "code",
   "execution_count": null,
   "id": "5cbebd47-f32a-4270-a2f4-8de627da3dce",
   "metadata": {},
   "outputs": [],
   "source": []
  }
 ],
 "metadata": {
  "kernelspec": {
   "display_name": "Python 3 (ipykernel)",
   "language": "python",
   "name": "python3"
  },
  "language_info": {
   "codemirror_mode": {
    "name": "ipython",
    "version": 3
   },
   "file_extension": ".py",
   "mimetype": "text/x-python",
   "name": "python",
   "nbconvert_exporter": "python",
   "pygments_lexer": "ipython3",
   "version": "3.12.4"
  }
 },
 "nbformat": 4,
 "nbformat_minor": 5
}
