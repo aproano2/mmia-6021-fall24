{
 "cells": [
  {
   "cell_type": "code",
   "execution_count": 106,
   "id": "11f106f1-25f4-45f7-8b33-508c3e3edf1d",
   "metadata": {},
   "outputs": [],
   "source": [
    "from __future__ import unicode_literals, print_function, division\n",
    "from io import open\n",
    "import unicodedata\n",
    "import re\n",
    "import random\n",
    "import time\n",
    "\n",
    "import torch\n",
    "import torch.nn as nn\n",
    "from torch import optim\n",
    "import torch.nn.functional as F\n",
    "\n",
    "import numpy as np\n",
    "from torch.utils.data import TensorDataset, DataLoader, RandomSampler\n",
    "\n",
    "import matplotlib.pyplot as plt\n",
    "%matplotlib inline"
   ]
  },
  {
   "cell_type": "code",
   "execution_count": 2,
   "id": "6bcf9b44-687c-4430-ba7a-3d3774a5acb7",
   "metadata": {},
   "outputs": [],
   "source": [
    "device = torch.device('mps')"
   ]
  },
  {
   "cell_type": "markdown",
   "id": "8685e548-0dd0-4e1e-902d-6d65f62d9c88",
   "metadata": {},
   "source": [
    "## Prepare data"
   ]
  },
  {
   "cell_type": "code",
   "execution_count": 3,
   "id": "0b3301f3-0566-44b4-b56b-90e4c5d00df9",
   "metadata": {},
   "outputs": [],
   "source": [
    "SOS_token = 0\n",
    "EOS_token = 1\n",
    "\n",
    "class Lang:\n",
    "    def __init__(self, name):\n",
    "        self.name = name\n",
    "        self.word2index = {}\n",
    "        self.word2count = {}\n",
    "        self.index2word = {0: \"SOS\", 1: \"EOS\"}\n",
    "        self.n_words = 2  # Count SOS and EOS\n",
    "\n",
    "    def addSentence(self, sentence):\n",
    "        for word in sentence.split(' '):\n",
    "            self.addWord(word)\n",
    "\n",
    "    def addWord(self, word):\n",
    "        if word not in self.word2index:\n",
    "            self.word2index[word] = self.n_words\n",
    "            self.word2count[word] = 1\n",
    "            self.index2word[self.n_words] = word\n",
    "            self.n_words += 1\n",
    "        else:\n",
    "            self.word2count[word] += 1"
   ]
  },
  {
   "cell_type": "code",
   "execution_count": 4,
   "id": "83801587-6ec2-4696-bf81-9b566e635f55",
   "metadata": {},
   "outputs": [],
   "source": [
    "def unicodeToAscii(s):\n",
    "    return ''.join(\n",
    "        c for c in unicodedata.normalize('NFD', s)\n",
    "        if unicodedata.category(c) != 'Mn'\n",
    "    )\n",
    "\n",
    "# Lowercase, trim, and remove non-letter characters\n",
    "def normalizeString(s):\n",
    "    s = unicodeToAscii(s.lower().strip())\n",
    "    s = re.sub(r\"([.!?])\", r\" \\1\", s)\n",
    "    s = re.sub(r\"[^a-zA-Z!?]+\", r\" \", s)\n",
    "    return s.strip()"
   ]
  },
  {
   "cell_type": "code",
   "execution_count": 5,
   "id": "b557f909-feaf-40ff-8689-9ebe4c61cdda",
   "metadata": {},
   "outputs": [],
   "source": [
    "file = 'data/spa.txt'"
   ]
  },
  {
   "cell_type": "code",
   "execution_count": 6,
   "id": "7953c2e0-6ef9-4537-a699-05263d7e3b30",
   "metadata": {},
   "outputs": [],
   "source": [
    "MAX_LENGTH = 10\n",
    "\n",
    "eng_prefixes = (\n",
    "    \"i am \", \"i m \",\n",
    "    \"he is\", \"he s \",\n",
    "    \"she is\", \"she s \",\n",
    "    \"you are\", \"you re \",\n",
    "    \"we are\", \"we re \",\n",
    "    \"they are\", \"they re \"\n",
    ")\n",
    "\n",
    "def filterPair(p):\n",
    "    try:\n",
    "        return len(p[0].split(' ')) < MAX_LENGTH and \\\n",
    "            len(p[1].split(' ')) < MAX_LENGTH #and \\\n",
    "#            p[0].startswith(eng_prefixes)\n",
    "    except:\n",
    "        print(p)\n",
    "\n",
    "\n",
    "def filterPairs(pairs):\n",
    "    return [pair for pair in pairs if filterPair(pair)]"
   ]
  },
  {
   "cell_type": "code",
   "execution_count": 7,
   "id": "0990a138-2adc-460b-98c5-69219b5ef364",
   "metadata": {},
   "outputs": [],
   "source": [
    "def prepareData(lang1, lang2, file):\n",
    "    text = open(file, encoding='utf-8').read().split('\\n')\n",
    "    pairs = [[normalizeString(s) for s in l.split('\\t')][:2] for l in text ]\n",
    "    pairs = [pair for pair in pairs if len(pair) == 2]\n",
    "\n",
    "    input_lang = Lang(lang1)\n",
    "    output_lang = Lang(lang2)\n",
    "    \n",
    "    pairs = filterPairs(pairs)\n",
    "    \n",
    "    for pair in pairs:\n",
    "        input_lang.addSentence(pair[0])\n",
    "        output_lang.addSentence(pair[1])\n",
    "    print(\"Counted words:\")\n",
    "    print(input_lang.name, input_lang.n_words)\n",
    "    print(output_lang.name, output_lang.n_words)\n",
    "    return input_lang, output_lang, pairs\n"
   ]
  },
  {
   "cell_type": "code",
   "execution_count": 10,
   "id": "427df0d6-e5fe-44bf-9c82-b085fe7df36c",
   "metadata": {},
   "outputs": [
    {
     "name": "stdout",
     "output_type": "stream",
     "text": [
      "Counted words:\n",
      "eng 12105\n",
      "spa 23411\n"
     ]
    }
   ],
   "source": [
    "input_lang, output_lang, pairs = prepareData('eng', 'spa', file)"
   ]
  },
  {
   "cell_type": "code",
   "execution_count": 141,
   "id": "a4cffad1-383a-4581-91ac-4bcf76144ef2",
   "metadata": {},
   "outputs": [
    {
     "name": "stdout",
     "output_type": "stream",
     "text": [
      "Counted words:\n",
      "eng 13789\n",
      "spa 26915\n"
     ]
    }
   ],
   "source": [
    "input_lang1, output_lang1, pairs1 = prepareData('eng', 'spa', file)"
   ]
  },
  {
   "cell_type": "markdown",
   "id": "97717e82-8474-4f11-b831-48b711130bd1",
   "metadata": {},
   "source": [
    "## Network"
   ]
  },
  {
   "cell_type": "code",
   "execution_count": 11,
   "id": "3556e239-ba60-4f63-bd91-d6ff6613daef",
   "metadata": {},
   "outputs": [],
   "source": [
    "class EncoderRNN(nn.Module):\n",
    "    def __init__(self, input_size, hidden_size, dropout_p=0.1):\n",
    "        super(EncoderRNN, self).__init__()\n",
    "        self.hidden_size = hidden_size\n",
    "\n",
    "        self.embedding = nn.Embedding(input_size, hidden_size)\n",
    "        self.gru = nn.GRU(hidden_size, hidden_size, batch_first=True)\n",
    "        self.dropout = nn.Dropout(dropout_p)\n",
    "\n",
    "    def forward(self, input):\n",
    "        embedded = self.dropout(self.embedding(input))\n",
    "        output, hidden = self.gru(embedded)\n",
    "        return output, hidden"
   ]
  },
  {
   "cell_type": "code",
   "execution_count": 12,
   "id": "b8344bc9-a0c6-41df-94f3-f515d46ee11b",
   "metadata": {},
   "outputs": [],
   "source": [
    "class DecoderRNN(nn.Module):\n",
    "    def __init__(self, hidden_size, output_size):\n",
    "        super(DecoderRNN, self).__init__()\n",
    "        self.embedding = nn.Embedding(output_size, hidden_size)\n",
    "        self.gru = nn.GRU(hidden_size, hidden_size, batch_first=True)\n",
    "        self.out = nn.Linear(hidden_size, output_size)\n",
    "\n",
    "    def forward(self, encoder_outputs, encoder_hidden, target_tensor=None):\n",
    "        batch_size = encoder_outputs.size(0)\n",
    "        decoder_input = torch.empty(batch_size, 1, dtype=torch.long, device=device).fill_(SOS_token)\n",
    "        decoder_hidden = encoder_hidden\n",
    "        decoder_outputs = []\n",
    "\n",
    "        for i in range(MAX_LENGTH):\n",
    "            decoder_output, decoder_hidden  = self.forward_step(decoder_input, decoder_hidden)\n",
    "            decoder_outputs.append(decoder_output)\n",
    "\n",
    "            if target_tensor is not None:\n",
    "                # Teacher forcing: Feed the target as the next input\n",
    "                decoder_input = target_tensor[:, i].unsqueeze(1) # Teacher forcing\n",
    "            else:\n",
    "                # Without teacher forcing: use its own predictions as the next input\n",
    "                _, topi = decoder_output.topk(1)\n",
    "                decoder_input = topi.squeeze(-1).detach()  # detach from history as input\n",
    "\n",
    "        decoder_outputs = torch.cat(decoder_outputs, dim=1)\n",
    "        decoder_outputs = F.log_softmax(decoder_outputs, dim=-1)\n",
    "        return decoder_outputs, decoder_hidden, None # We return `None` for consistency in the training loop\n",
    "\n",
    "    def forward_step(self, input, hidden):\n",
    "        output = self.embedding(input)\n",
    "        output = F.relu(output)\n",
    "        output, hidden = self.gru(output, hidden)\n",
    "        output = self.out(output)\n",
    "        return output, hidden"
   ]
  },
  {
   "cell_type": "markdown",
   "id": "fda656da-63bc-49df-b7e8-f97d8a7ffe3c",
   "metadata": {},
   "source": [
    "### Preparing training data"
   ]
  },
  {
   "cell_type": "code",
   "execution_count": 13,
   "id": "ab0d887a-af8e-468c-b5dd-97af6c178fa3",
   "metadata": {},
   "outputs": [
    {
     "data": {
      "text/plain": [
       "[['go', 've'],\n",
       " ['go', 'vete'],\n",
       " ['go', 'vaya'],\n",
       " ['go', 'vayase'],\n",
       " ['hi', 'hola'],\n",
       " ['run !', 'corre !'],\n",
       " ['run !', 'corran !'],\n",
       " ['run !', 'huye !'],\n",
       " ['run !', 'corra !'],\n",
       " ['run !', 'corred !'],\n",
       " ['run', 'corra'],\n",
       " ['run', 'corred'],\n",
       " ['who ?', 'quien ?'],\n",
       " ['wow !', 'orale !'],\n",
       " ['duck !', 'inclinate !'],\n",
       " ['duck !', 'agachate !'],\n",
       " ['duck !', 'agachese !'],\n",
       " ['duck !', 'agachense !'],\n",
       " ['duck !', 'agachaos !'],\n",
       " ['fire !', 'fuego !']]"
      ]
     },
     "execution_count": 13,
     "metadata": {},
     "output_type": "execute_result"
    }
   ],
   "source": [
    "pairs[:20]"
   ]
  },
  {
   "cell_type": "code",
   "execution_count": 14,
   "id": "fa900112-47ad-46c7-b497-28728a4ae4fb",
   "metadata": {},
   "outputs": [],
   "source": [
    "def indexesFromSentence(lang, sentence):\n",
    "    return [lang.word2index[word] for word in sentence.split(' ')]\n",
    "\n",
    "def tensorFromSentence(lang, sentence):\n",
    "    indexes = indexesFromSentence(lang, sentence)\n",
    "    indexes.append(EOS_token)\n",
    "    return torch.tensor(indexes, dtype=torch.long, device=device).view(1, -1)\n",
    "\n",
    "def tensorsFromPair(pair):\n",
    "    input_tensor = tensorFromSentence(input_lang, pair[0])\n",
    "    target_tensor = tensorFromSentence(output_lang, pair[1])\n",
    "    return (input_tensor, target_tensor)\n",
    "\n",
    "def get_dataloader(batch_size):\n",
    "    input_lang, output_lang, pairs = prepareData('eng', 'spa', file)\n",
    "\n",
    "    n = len(pairs)\n",
    "    input_ids = np.zeros((n, MAX_LENGTH), dtype=np.int32)\n",
    "    target_ids = np.zeros((n, MAX_LENGTH), dtype=np.int32)\n",
    "\n",
    "    for idx, (inp, tgt) in enumerate(pairs):\n",
    "        inp_ids = indexesFromSentence(input_lang, inp)\n",
    "        tgt_ids = indexesFromSentence(output_lang, tgt)\n",
    "        inp_ids.append(EOS_token)\n",
    "        tgt_ids.append(EOS_token)\n",
    "        input_ids[idx, :len(inp_ids)] = inp_ids\n",
    "        target_ids[idx, :len(tgt_ids)] = tgt_ids\n",
    "\n",
    "    train_data = TensorDataset(torch.LongTensor(input_ids).to(device),\n",
    "                               torch.LongTensor(target_ids).to(device))\n",
    "\n",
    "    train_sampler = RandomSampler(train_data)\n",
    "    train_dataloader = DataLoader(train_data, sampler=train_sampler, batch_size=batch_size)\n",
    "    return input_lang, output_lang, train_dataloader"
   ]
  },
  {
   "cell_type": "code",
   "execution_count": 15,
   "id": "4991adda-01c6-4ac7-a6f9-14d605400e94",
   "metadata": {},
   "outputs": [],
   "source": [
    "import time\n",
    "import math\n",
    "\n",
    "def asMinutes(s):\n",
    "    m = math.floor(s / 60)\n",
    "    s -= m * 60\n",
    "    return '%dm %ds' % (m, s)\n",
    "\n",
    "def timeSince(since, percent):\n",
    "    now = time.time()\n",
    "    s = now - since\n",
    "    es = s / (percent)\n",
    "    rs = es - s\n",
    "    return '%s (- %s)' % (asMinutes(s), asMinutes(rs))"
   ]
  },
  {
   "cell_type": "markdown",
   "id": "5f9818e5-f1de-4b03-94c9-f6510b4ceef9",
   "metadata": {},
   "source": [
    "### Training"
   ]
  },
  {
   "cell_type": "code",
   "execution_count": 16,
   "id": "c55784c4-a97f-4189-896f-d939625d2052",
   "metadata": {},
   "outputs": [],
   "source": [
    "def train_epoch(dataloader, encoder, decoder, encoder_optimizer,\n",
    "          decoder_optimizer, criterion):\n",
    "\n",
    "    total_loss = 0\n",
    "    for data in dataloader:\n",
    "        input_tensor, target_tensor = data\n",
    "\n",
    "        encoder_optimizer.zero_grad()\n",
    "        decoder_optimizer.zero_grad()\n",
    "\n",
    "        encoder_outputs, encoder_hidden = encoder(input_tensor)\n",
    "        decoder_outputs, _, _ = decoder(encoder_outputs, encoder_hidden, target_tensor)\n",
    "\n",
    "        loss = criterion(\n",
    "            decoder_outputs.view(-1, decoder_outputs.size(-1)),\n",
    "            target_tensor.view(-1)\n",
    "        )\n",
    "        loss.backward()\n",
    "\n",
    "        encoder_optimizer.step()\n",
    "        decoder_optimizer.step()\n",
    "\n",
    "        total_loss += loss.item()\n",
    "\n",
    "    return total_loss / len(dataloader)"
   ]
  },
  {
   "cell_type": "code",
   "execution_count": 17,
   "id": "f2d2982b-3cc5-4932-a8f1-f183b870f335",
   "metadata": {},
   "outputs": [],
   "source": [
    "def train(train_dataloader, encoder, decoder, n_epochs, learning_rate=0.001,\n",
    "               print_every=100, plot_every=100):\n",
    "    start = time.time()\n",
    "    plot_losses = []\n",
    "    print_loss_total = 0  # Reset every print_every\n",
    "    plot_loss_total = 0  # Reset every plot_every\n",
    "\n",
    "    encoder_optimizer = optim.Adam(encoder.parameters(), lr=learning_rate)\n",
    "    decoder_optimizer = optim.Adam(decoder.parameters(), lr=learning_rate)\n",
    "    criterion = nn.NLLLoss()\n",
    "\n",
    "    for epoch in range(1, n_epochs + 1):\n",
    "        loss = train_epoch(train_dataloader, encoder, decoder, encoder_optimizer, decoder_optimizer, criterion)\n",
    "        print_loss_total += loss\n",
    "        plot_loss_total += loss\n",
    "\n",
    "        if epoch % print_every == 0:\n",
    "            print_loss_avg = print_loss_total / print_every\n",
    "            print_loss_total = 0\n",
    "            print('%s (%d %d%%) %.4f' % (timeSince(start, epoch / n_epochs),\n",
    "                                        epoch, epoch / n_epochs * 100, print_loss_avg))\n",
    "\n",
    "        if epoch % plot_every == 0:\n",
    "            plot_loss_avg = plot_loss_total / plot_every\n",
    "            plot_losses.append(plot_loss_avg)\n",
    "            plot_loss_total = 0\n",
    "\n",
    "    showPlot(plot_losses)"
   ]
  },
  {
   "cell_type": "code",
   "execution_count": 18,
   "id": "15e074af-59e2-45ad-a11a-fea298c9af4a",
   "metadata": {},
   "outputs": [],
   "source": [
    "import matplotlib.pyplot as plt\n",
    "plt.switch_backend('agg')\n",
    "import matplotlib.ticker as ticker\n",
    "import numpy as np\n",
    "\n",
    "def showPlot(points):\n",
    "    plt.figure()\n",
    "    fig, ax = plt.subplots()\n",
    "    # this locator puts ticks at regular intervals\n",
    "    loc = ticker.MultipleLocator(base=0.2)\n",
    "    ax.yaxis.set_major_locator(loc)\n",
    "    plt.plot(points)"
   ]
  },
  {
   "cell_type": "code",
   "execution_count": 178,
   "id": "0ddf80e2-0acd-47b5-95b1-89e314afbae7",
   "metadata": {},
   "outputs": [
    {
     "name": "stdout",
     "output_type": "stream",
     "text": [
      "Counted words:\n",
      "eng 12105\n",
      "spa 23411\n",
      "8m 37s (- 129m 29s) (5 6%) 1.7811\n",
      "31m 50s (- 222m 55s) (10 12%) 0.9807\n",
      "42m 26s (- 183m 54s) (15 18%) 0.7358\n",
      "61m 32s (- 184m 38s) (20 25%) 0.6122\n",
      "70m 7s (- 154m 16s) (25 31%) 0.5370\n",
      "125m 15s (- 208m 45s) (30 37%) 0.4852\n",
      "154m 35s (- 198m 46s) (35 43%) 0.4472\n",
      "163m 12s (- 163m 12s) (40 50%) 0.4182\n",
      "171m 44s (- 133m 34s) (45 56%) 0.3949\n",
      "180m 30s (- 108m 18s) (50 62%) 0.3759\n",
      "221m 36s (- 100m 43s) (55 68%) 0.3602\n",
      "304m 59s (- 101m 39s) (60 75%) 0.3466\n",
      "379m 58s (- 87m 41s) (65 81%) 0.3349\n",
      "454m 27s (- 64m 55s) (70 87%) 0.3250\n",
      "463m 2s (- 30m 52s) (75 93%) 0.3162\n",
      "519m 2s (- 0m 0s) (80 100%) 0.3083\n"
     ]
    },
    {
     "data": {
      "text/plain": [
       "<Figure size 640x480 with 0 Axes>"
      ]
     },
     "metadata": {},
     "output_type": "display_data"
    },
    {
     "data": {
      "image/png": "[encoded data removed]",
      "text/plain": [
       "<Figure size 640x480 with 1 Axes>"
      ]
     },
     "metadata": {},
     "output_type": "display_data"
    }
   ],
   "source": [
    "hidden_size = 128\n",
    "batch_size = 32\n",
    "\n",
    "input_lang, output_lang, train_dataloader = get_dataloader(batch_size)\n",
    "\n",
    "encoder = EncoderRNN(input_lang.n_words, hidden_size).to(device)\n",
    "decoder = DecoderRNN(hidden_size, output_lang.n_words).to(device)\n",
    "\n",
    "train(train_dataloader, encoder, decoder, 80, print_every=5, plot_every=5)"
   ]
  },
  {
   "cell_type": "code",
   "execution_count": 187,
   "id": "111e4aab-d774-4138-809f-843fbc433981",
   "metadata": {},
   "outputs": [],
   "source": [
    "path = \"./models/\"\n",
    "torch.save(encoder, path+\"translate_sp_en_encoder.pt\")\n",
    "torch.save(decoder, path+\"translate_sp_en_decoder.pt\")"
   ]
  },
  {
   "cell_type": "markdown",
   "id": "0d5fde72-08dd-4142-9e77-f25b0abe5fdf",
   "metadata": {},
   "source": [
    "### Evaluate "
   ]
  },
  {
   "cell_type": "code",
   "execution_count": 29,
   "id": "3ef04c46-62c8-442d-bdd6-04a1f7648efc",
   "metadata": {},
   "outputs": [],
   "source": [
    "def evaluate(encoder, decoder, sentence, input_lang, output_lang):\n",
    "    with torch.no_grad():\n",
    "        input_tensor = tensorFromSentence(input_lang, sentence)\n",
    "\n",
    "        encoder_outputs, encoder_hidden = encoder(input_tensor)\n",
    "        decoder_outputs, decoder_hidden, decoder_attn = decoder(encoder_outputs, encoder_hidden)\n",
    "\n",
    "        _, topi = decoder_outputs.topk(1)\n",
    "        decoded_ids = topi.squeeze()\n",
    "\n",
    "        decoded_words = []\n",
    "        for idx in decoded_ids:\n",
    "            if idx.item() == EOS_token:\n",
    "                decoded_words.append('<EOS>')\n",
    "                break\n",
    "            decoded_words.append(output_lang.index2word[idx.item()])\n",
    "    return decoded_words, decoder_attn"
   ]
  },
  {
   "cell_type": "code",
   "execution_count": 28,
   "id": "79977353-5c84-420c-abae-a4bdd281ef72",
   "metadata": {},
   "outputs": [],
   "source": [
    "def evaluateRandomly(encoder, decoder, n=10):\n",
    "    for i in range(n):\n",
    "        pair = random.choice(pairs)\n",
    "        print('>', pair[0])\n",
    "        print('=', pair[1])\n",
    "        output_words, _ = evaluate(encoder, decoder, pair[0], input_lang, output_lang)\n",
    "        output_sentence = ' '.join(output_words)\n",
    "        print('<', output_sentence)\n",
    "        print('')"
   ]
  },
  {
   "cell_type": "code",
   "execution_count": 179,
   "id": "778193a2-c167-4b75-9eac-6c0820d81895",
   "metadata": {},
   "outputs": [
    {
     "name": "stdout",
     "output_type": "stream",
     "text": [
      "> you re three years younger than tom\n",
      "= eres tres anos menor que tom\n",
      "< eres tres anos mas que pase <EOS>\n",
      "\n",
      "> i m pleased to see you\n",
      "= me alegra verte\n",
      "< estoy contento de verte <EOS>\n",
      "\n",
      "> i am responsible for the mistake\n",
      "= yo soy responsable del error\n",
      "< soy responsable del accidente del rompecabezas <EOS>\n",
      "\n",
      "> he s stupid\n",
      "= es un salame\n",
      "< es estupido de estupido <EOS>\n",
      "\n",
      "> i m very short of money\n",
      "= estoy corto de dinero\n",
      "< estoy corto de dinero <EOS>\n",
      "\n",
      "> i m sure i saw her two years ago\n",
      "= estoy seguro de que la vi hace dos anos\n",
      "< estoy seguro de que haya visto llorar <EOS>\n",
      "\n",
      "> i m hungry and thirsty\n",
      "= estoy hambrienta y sedienta\n",
      "< tengo hambre y muero muero que los autobuses <EOS>\n",
      "\n",
      "> he is in touch with all kinds of people\n",
      "= el se codea con todo tipo de gente\n",
      "< el vive en el futuro de frances <EOS>\n",
      "\n",
      "> she is going to learn how to drive\n",
      "= ella va a aprender a conducir\n",
      "< ella va a aprender a conducir un camino <EOS>\n",
      "\n",
      "> i m hoping to sell my car for\n",
      "= espero poder vender el coche por dolares\n",
      "< espero poder vender el coche por dolares <EOS>\n",
      "\n"
     ]
    }
   ],
   "source": [
    "encoder.eval()\n",
    "decoder.eval()\n",
    "evaluateRandomly(encoder, decoder)"
   ]
  },
  {
   "cell_type": "code",
   "execution_count": 180,
   "id": "d4ee2030-6f5d-46a2-b17a-b5f2a1c6205e",
   "metadata": {},
   "outputs": [
    {
     "data": {
      "text/plain": [
       "(['el', 'es', 'mi', 'hermano', 'mayor', '<EOS>'], None)"
      ]
     },
     "execution_count": 180,
     "metadata": {},
     "output_type": "execute_result"
    }
   ],
   "source": [
    " evaluate(encoder, decoder, 'he is my brother', input_lang, output_lang)"
   ]
  },
  {
   "cell_type": "code",
   "execution_count": 181,
   "id": "bd4bd4e1-6677-4a8d-a436-33daecd80550",
   "metadata": {},
   "outputs": [
    {
     "data": {
      "text/plain": [
       "(['ella', 'es', 'mi', 'hermana', 'mayor', '<EOS>'], None)"
      ]
     },
     "execution_count": 181,
     "metadata": {},
     "output_type": "execute_result"
    }
   ],
   "source": [
    "evaluate(encoder, decoder, 'she is my sister', input_lang, output_lang)"
   ]
  },
  {
   "cell_type": "code",
   "execution_count": 182,
   "id": "4e4443fe-e664-4ba2-8131-bb889acbe130",
   "metadata": {},
   "outputs": [
    {
     "data": {
      "text/plain": [
       "(['es', 'el', 'profesor', '<EOS>'], None)"
      ]
     },
     "execution_count": 182,
     "metadata": {},
     "output_type": "execute_result"
    }
   ],
   "source": [
    "evaluate(encoder, decoder, 'she is a teacher', input_lang, output_lang)"
   ]
  },
  {
   "cell_type": "code",
   "execution_count": 35,
   "id": "f09adbf7-98fd-4e0d-9e06-36c4407dd911",
   "metadata": {},
   "outputs": [
    {
     "data": {
      "text/plain": [
       "(['somos', 'estudiantes', 'por', 'los', 'estudiantes', '<EOS>'], None)"
      ]
     },
     "execution_count": 35,
     "metadata": {},
     "output_type": "execute_result"
    }
   ],
   "source": [
    "evaluate(encoder, decoder, 'we are students', input_lang, output_lang)"
   ]
  },
  {
   "cell_type": "code",
   "execution_count": 36,
   "id": "5fb9f6cb-85e4-42bf-8673-83c54f9b154b",
   "metadata": {},
   "outputs": [
    {
     "data": {
      "text/plain": [
       "(['soy', 'un', 'cocinero', 'dificil', '<EOS>'], None)"
      ]
     },
     "execution_count": 36,
     "metadata": {},
     "output_type": "execute_result"
    }
   ],
   "source": [
    "evaluate(encoder, decoder, 'i am a cook', input_lang, output_lang)"
   ]
  },
  {
   "cell_type": "code",
   "execution_count": 37,
   "id": "8b40dacf-9922-4ee6-91bd-12e7f46dcb2a",
   "metadata": {},
   "outputs": [
    {
     "data": {
      "text/plain": [
       "(['estoy', 'contento', 'de', 'mi', 'casa', 'es', 'verde', '<EOS>'], None)"
      ]
     },
     "execution_count": 37,
     "metadata": {},
     "output_type": "execute_result"
    }
   ],
   "source": [
    "evaluate(encoder, decoder, 'i am cleaning my house', input_lang, output_lang)"
   ]
  },
  {
   "cell_type": "code",
   "execution_count": 40,
   "id": "21c2d97f-5d61-4963-813d-68af5dfc6336",
   "metadata": {},
   "outputs": [
    {
     "data": {
      "text/plain": [
       "(['es', 'un', 'idiota', '!', '<EOS>'], None)"
      ]
     },
     "execution_count": 40,
     "metadata": {},
     "output_type": "execute_result"
    }
   ],
   "source": [
    "evaluate(encoder, decoder, 'she is an idiot', input_lang, output_lang)"
   ]
  },
  {
   "cell_type": "markdown",
   "id": "641675af-c449-42b4-8b65-efe7ea4a3188",
   "metadata": {},
   "source": [
    "## Attention model"
   ]
  },
  {
   "cell_type": "code",
   "execution_count": 19,
   "id": "a8207501-f769-4531-acd8-15287c3d82a5",
   "metadata": {},
   "outputs": [],
   "source": [
    "class BahdanauAttention(nn.Module):\n",
    "    def __init__(self, hidden_size):\n",
    "        super(BahdanauAttention, self).__init__()\n",
    "        self.Wa = nn.Linear(hidden_size, hidden_size)\n",
    "        self.Ua = nn.Linear(hidden_size, hidden_size)\n",
    "        self.Va = nn.Linear(hidden_size, 1)\n",
    "\n",
    "    def forward(self, query, keys):\n",
    "        scores = self.Va(torch.tanh(self.Wa(query) + self.Ua(keys)))\n",
    "        scores = scores.squeeze(2).unsqueeze(1)\n",
    "\n",
    "        weights = F.softmax(scores, dim=-1)\n",
    "        context = torch.bmm(weights, keys)\n",
    "\n",
    "        return context, weights"
   ]
  },
  {
   "cell_type": "code",
   "execution_count": 20,
   "id": "c27cb862-4655-47f2-8424-125ca0365a40",
   "metadata": {},
   "outputs": [],
   "source": [
    "class AttnDecoderRNN(nn.Module):\n",
    "    def __init__(self, hidden_size, output_size, dropout_p=0.1):\n",
    "        super(AttnDecoderRNN, self).__init__()\n",
    "        self.embedding = nn.Embedding(output_size, hidden_size)\n",
    "        self.attention = BahdanauAttention(hidden_size)\n",
    "        self.gru = nn.GRU(2 * hidden_size, hidden_size, batch_first=True)\n",
    "        self.out = nn.Linear(hidden_size, output_size)\n",
    "        self.dropout = nn.Dropout(dropout_p)\n",
    "\n",
    "    def forward(self, encoder_outputs, encoder_hidden, target_tensor=None):\n",
    "        batch_size = encoder_outputs.size(0)\n",
    "        decoder_input = torch.empty(batch_size, 1, dtype=torch.long, device=device).fill_(SOS_token)\n",
    "        decoder_hidden = encoder_hidden\n",
    "        decoder_outputs = []\n",
    "        attentions = []\n",
    "\n",
    "        for i in range(MAX_LENGTH):\n",
    "            decoder_output, decoder_hidden, attn_weights = self.forward_step(\n",
    "                decoder_input, decoder_hidden, encoder_outputs\n",
    "            )\n",
    "            decoder_outputs.append(decoder_output)\n",
    "            attentions.append(attn_weights)\n",
    "\n",
    "            if target_tensor is not None:\n",
    "                # Teacher forcing: Feed the target as the next input\n",
    "                decoder_input = target_tensor[:, i].unsqueeze(1) # Teacher forcing\n",
    "            else:\n",
    "                # Without teacher forcing: use its own predictions as the next input\n",
    "                _, topi = decoder_output.topk(1)\n",
    "                decoder_input = topi.squeeze(-1).detach()  # detach from history as input\n",
    "\n",
    "        decoder_outputs = torch.cat(decoder_outputs, dim=1)\n",
    "        decoder_outputs = F.log_softmax(decoder_outputs, dim=-1)\n",
    "        attentions = torch.cat(attentions, dim=1)\n",
    "\n",
    "        return decoder_outputs, decoder_hidden, attentions\n",
    "\n",
    "    def forward_step(self, input, hidden, encoder_outputs):\n",
    "        embedded =  self.dropout(self.embedding(input))\n",
    "\n",
    "        query = hidden.permute(1, 0, 2)\n",
    "        context, attn_weights = self.attention(query, encoder_outputs)\n",
    "        input_gru = torch.cat((embedded, context), dim=2)\n",
    "\n",
    "        output, hidden = self.gru(input_gru, hidden)\n",
    "        output = self.out(output)\n",
    "\n",
    "        return output, hidden, attn_weights"
   ]
  },
  {
   "cell_type": "code",
   "execution_count": 24,
   "id": "880c66be-82bd-4960-a854-e45a461259c1",
   "metadata": {},
   "outputs": [
    {
     "name": "stdout",
     "output_type": "stream",
     "text": [
      "Counted words:\n",
      "eng 12105\n",
      "spa 23411\n",
      "10m 8s (- 152m 7s) (5 6%) 1.4922\n",
      "20m 25s (- 143m 0s) (10 12%) 0.7396\n",
      "30m 23s (- 131m 40s) (15 18%) 0.5663\n",
      "40m 15s (- 120m 47s) (20 25%) 0.4839\n",
      "50m 20s (- 110m 45s) (25 31%) 0.4328\n",
      "60m 19s (- 100m 33s) (30 37%) 0.3970\n",
      "70m 13s (- 90m 17s) (35 43%) 0.3707\n",
      "80m 6s (- 80m 6s) (40 50%) 0.3497\n",
      "89m 58s (- 69m 58s) (45 56%) 0.3334\n",
      "99m 48s (- 59m 53s) (50 62%) 0.3191\n",
      "109m 37s (- 49m 49s) (55 68%) 0.3077\n",
      "119m 29s (- 39m 49s) (60 75%) 0.2975\n",
      "129m 21s (- 29m 51s) (65 81%) 0.2896\n",
      "139m 14s (- 19m 53s) (70 87%) 0.2818\n",
      "149m 7s (- 9m 56s) (75 93%) 0.2754\n",
      "238m 30s (- 0m 0s) (80 100%) 0.2696\n"
     ]
    }
   ],
   "source": [
    "hidden_size = 128\n",
    "batch_size = 32\n",
    "\n",
    "input_lang, output_lang, train_dataloader = get_dataloader(batch_size)\n",
    "\n",
    "encoder_attn = EncoderRNN(input_lang.n_words, hidden_size).to(device)\n",
    "decoder_attn = AttnDecoderRNN(hidden_size, output_lang.n_words).to(device)\n",
    "\n",
    "train(train_dataloader, encoder_attn, decoder_attn, 80, print_every=5, plot_every=5)"
   ]
  },
  {
   "cell_type": "code",
   "execution_count": 26,
   "id": "c3d0678c-10ee-491c-95b7-e1aa71cedbe4",
   "metadata": {},
   "outputs": [],
   "source": [
    "path = \"./models/\"\n",
    "torch.save(encoder_attn, path+\"translate_sp_en_attn_encoder.pt\")\n",
    "torch.save(decoder_attn, path+\"translate_sp_en_attn_decoder.pt\")"
   ]
  },
  {
   "cell_type": "code",
   "execution_count": 30,
   "id": "f6b076a2-bfd2-47d7-a13b-a878868abc97",
   "metadata": {},
   "outputs": [
    {
     "name": "stdout",
     "output_type": "stream",
     "text": [
      "> she can swim as fast as her brother\n",
      "= sabe nadar tan rapido como su hermano\n",
      "< ella sabe nadar tan rapido como su hermano <EOS>\n",
      "\n",
      "> stop being lazy and find something to do\n",
      "= deja de ser perezoso y encuentra algo que hacer\n",
      "< deja de ser perezoso y encuentra algo <EOS>\n",
      "\n",
      "> tom ll find out\n",
      "= tom lo averiguara\n",
      "< tom lo averiguara probablemente <EOS>\n",
      "\n",
      "> tom filled the three glasses with orange juice\n",
      "= tom lleno los tres vasos con jugo de naranja\n",
      "< tom lleno los tres vasos con jugo de naranja <EOS>\n",
      "\n",
      "> we ve got to do that on monday\n",
      "= tenemos que hacerlo el lunes\n",
      "< tenemos que hacerlo el lunes <EOS>\n",
      "\n",
      "> it s finally october\n",
      "= al fin es octubre\n",
      "< al fin es octubre mucho <EOS>\n",
      "\n",
      "> the tree s leaves have all fallen\n",
      "= cayeron todas las hojas del arbol\n",
      "< el arbol me han vuelto todas toda la <EOS>\n",
      "\n",
      "> two detectives followed the suspect\n",
      "= dos detectives persiguieron al sospechoso\n",
      "< dos detectives persiguieron al sospechoso <EOS>\n",
      "\n",
      "> they re not going to leave us alone\n",
      "= no nos van a dejar en paz\n",
      "< no nos van a dejar en paz a solas <EOS>\n",
      "\n",
      "> we hated to see tom go\n",
      "= nos disgusto ver irse a tom\n",
      "< nos disgusto ver irse a tom <EOS>\n",
      "\n"
     ]
    }
   ],
   "source": [
    "encoder_attn.eval()\n",
    "decoder_attn.eval()\n",
    "evaluateRandomly(encoder_attn, decoder_attn)"
   ]
  },
  {
   "cell_type": "code",
   "execution_count": 31,
   "id": "9d078ae5-1dd7-42ae-9f8a-5f10dad6504b",
   "metadata": {},
   "outputs": [],
   "source": [
    "encoder = torch.load(path+\"translate_sp_en_encoder.pt\")\n",
    "decoder = torch.load(path+\"translate_sp_en_decoder.pt\")"
   ]
  },
  {
   "cell_type": "code",
   "execution_count": 45,
   "id": "4fec8935-88a4-4e7f-a437-cf1c1fe92d01",
   "metadata": {},
   "outputs": [
    {
     "data": {
      "text/plain": [
       "['estoy', 'estudiando', 'ingles', 'en', 'el', 'estudio', '<EOS>']"
      ]
     },
     "execution_count": 45,
     "metadata": {},
     "output_type": "execute_result"
    }
   ],
   "source": [
    "evaluate(encoder, decoder, 'i m studying in an english class', input_lang, output_lang)[0]"
   ]
  },
  {
   "cell_type": "code",
   "execution_count": 44,
   "id": "24b2b50a-c2d0-4ad7-9e81-02fcaf83f9d3",
   "metadata": {},
   "outputs": [
    {
     "data": {
      "text/plain": [
       "['estoy', 'estudiando', 'en', 'una', 'clase', 'de', 'ingles', '<EOS>']"
      ]
     },
     "execution_count": 44,
     "metadata": {},
     "output_type": "execute_result"
    }
   ],
   "source": [
    "evaluate(encoder_attn, decoder_attn, 'i m studying in an english class', input_lang, output_lang)[0]"
   ]
  },
  {
   "cell_type": "code",
   "execution_count": 46,
   "id": "a84ba946-1e17-44f4-aef2-560733a491ce",
   "metadata": {},
   "outputs": [
    {
     "data": {
      "text/plain": [
       "['mi', 'hermano', 'nunca', 'se', 'fue', 'en', 'mi', 'fiesta', '<EOS>']"
      ]
     },
     "execution_count": 46,
     "metadata": {},
     "output_type": "execute_result"
    }
   ],
   "source": [
    "evaluate(encoder, decoder, 'my brother never showed up in my party', input_lang, output_lang)[0]"
   ]
  },
  {
   "cell_type": "code",
   "execution_count": 47,
   "id": "ee1001d2-99f7-4369-a0f4-5087682f3bf9",
   "metadata": {},
   "outputs": [
    {
     "data": {
      "text/plain": [
       "['mi', 'hermano', 'nunca', 'se', 'porto', 'en', 'mi', 'fiesta', 'de', 'mi']"
      ]
     },
     "execution_count": 47,
     "metadata": {},
     "output_type": "execute_result"
    }
   ],
   "source": [
    "evaluate(encoder_attn, decoder_attn, 'my brother never showed up in my party', input_lang, output_lang)[0]"
   ]
  },
  {
   "cell_type": "code",
   "execution_count": 48,
   "id": "0dc88517-cce2-4ff1-9803-87497a0e8973",
   "metadata": {},
   "outputs": [
    {
     "data": {
      "text/plain": [
       "(['el', 'es', 'mi', 'hermano', 'mayor', '<EOS>'], None)"
      ]
     },
     "execution_count": 48,
     "metadata": {},
     "output_type": "execute_result"
    }
   ],
   "source": [
    " evaluate(encoder, decoder, 'he is my brother', input_lang, output_lang)"
   ]
  },
  {
   "cell_type": "code",
   "execution_count": 54,
   "id": "203e3990-dfc2-409b-9d12-246a5918a8f3",
   "metadata": {},
   "outputs": [
    {
     "data": {
      "text/plain": [
       "['como', 'se', 'llama', 'tu', 'nombre', '?', '<EOS>']"
      ]
     },
     "execution_count": 54,
     "metadata": {},
     "output_type": "execute_result"
    }
   ],
   "source": [
    "evaluate(encoder_attn, decoder_attn, 'what is your name ?', input_lang, output_lang)[0]"
   ]
  },
  {
   "cell_type": "code",
   "execution_count": 55,
   "id": "cc6d8b88-482a-49e2-b201-59cf8ebe82e6",
   "metadata": {},
   "outputs": [
    {
     "data": {
      "text/plain": [
       "['como', 'le', 'llama', 'mi', 'nombre', '?', '<EOS>']"
      ]
     },
     "execution_count": 55,
     "metadata": {},
     "output_type": "execute_result"
    }
   ],
   "source": [
    "evaluate(encoder_attn, decoder_attn, 'what is my name ?', input_lang, output_lang)[0]"
   ]
  },
  {
   "cell_type": "code",
   "execution_count": 59,
   "id": "205c0f18-5a80-49f9-8cba-f0653f753867",
   "metadata": {},
   "outputs": [
    {
     "data": {
      "text/plain": [
       "['como', 'se', 'llama', 'tu', 'nombre', '?', '<EOS>']"
      ]
     },
     "execution_count": 59,
     "metadata": {},
     "output_type": "execute_result"
    }
   ],
   "source": [
    "evaluate(encoder, decoder, 'what is his name ?', input_lang, output_lang)[0]"
   ]
  },
  {
   "cell_type": "code",
   "execution_count": 56,
   "id": "fda571da-5b74-4938-9426-f117fcdff205",
   "metadata": {},
   "outputs": [
    {
     "data": {
      "text/plain": [
       "['como', 'se', 'llama', 'su', 'nombre', '?', '<EOS>']"
      ]
     },
     "execution_count": 56,
     "metadata": {},
     "output_type": "execute_result"
    }
   ],
   "source": [
    "evaluate(encoder_attn, decoder_attn, 'what is his name ?', input_lang, output_lang)[0]"
   ]
  },
  {
   "cell_type": "code",
   "execution_count": 57,
   "id": "11eb31fb-db99-4152-b3f7-41a2bf48189f",
   "metadata": {},
   "outputs": [
    {
     "data": {
      "text/plain": [
       "['como', 'le', 'llama', 'el', 'nombre', '?', '<EOS>']"
      ]
     },
     "execution_count": 57,
     "metadata": {},
     "output_type": "execute_result"
    }
   ],
   "source": [
    "evaluate(encoder_attn, decoder_attn, 'what is her name ?', input_lang, output_lang)[0]"
   ]
  },
  {
   "cell_type": "code",
   "execution_count": 62,
   "id": "cff0c54e-f0f6-4146-99da-79b516f73960",
   "metadata": {},
   "outputs": [
    {
     "data": {
      "text/plain": [
       "['mi', 'coche', 'me', 'esta', 'romper', 'esta', 'semana', '<EOS>']"
      ]
     },
     "execution_count": 62,
     "metadata": {},
     "output_type": "execute_result"
    }
   ],
   "source": [
    "evaluate(encoder_attn, decoder_attn, 'my car broke down this week', input_lang, output_lang)[0]"
   ]
  },
  {
   "cell_type": "code",
   "execution_count": 63,
   "id": "bc383c56-c89f-4cb0-a763-2fa0dea0eca6",
   "metadata": {},
   "outputs": [
    {
     "data": {
      "text/plain": [
       "['mi', 'coche', 'esta', 'en', 'el', 'coche', 'de', 'mi', 'nombre', 'aun']"
      ]
     },
     "execution_count": 63,
     "metadata": {},
     "output_type": "execute_result"
    }
   ],
   "source": [
    "evaluate(encoder, decoder, 'my car broke down this week', input_lang, output_lang)[0]"
   ]
  },
  {
   "cell_type": "code",
   "execution_count": 69,
   "id": "504a4d36-f331-476c-b0c9-3b07483c29e6",
   "metadata": {},
   "outputs": [
    {
     "data": {
      "text/plain": [
       "['como', 'va', '?', '<EOS>']"
      ]
     },
     "execution_count": 69,
     "metadata": {},
     "output_type": "execute_result"
    }
   ],
   "source": [
    "evaluate(encoder_attn, decoder_attn, 'how is it going ?', input_lang, output_lang)[0]"
   ]
  },
  {
   "cell_type": "code",
   "execution_count": 70,
   "id": "005f4d3a-15fb-4e10-9c75-d0015e6fc92a",
   "metadata": {},
   "outputs": [
    {
     "data": {
      "text/plain": [
       "['como', 'va', '?', '<EOS>']"
      ]
     },
     "execution_count": 70,
     "metadata": {},
     "output_type": "execute_result"
    }
   ],
   "source": [
    "evaluate(encoder, decoder, 'how is it going ?', input_lang, output_lang)[0]"
   ]
  },
  {
   "cell_type": "code",
   "execution_count": 71,
   "id": "c416a636-bbef-441e-9a28-3c82c803960e",
   "metadata": {},
   "outputs": [
    {
     "data": {
      "text/plain": [
       "['que', 'esta', 'casado', '?', '<EOS>']"
      ]
     },
     "execution_count": 71,
     "metadata": {},
     "output_type": "execute_result"
    }
   ],
   "source": [
    "evaluate(encoder_attn, decoder_attn, 'what s up ?', input_lang, output_lang)[0]"
   ]
  },
  {
   "cell_type": "code",
   "execution_count": 72,
   "id": "42a8bdda-4487-48d4-8ce1-032820551eb9",
   "metadata": {},
   "outputs": [
    {
     "data": {
      "text/plain": [
       "['que', 'esta', 'es', '?', '<EOS>']"
      ]
     },
     "execution_count": 72,
     "metadata": {},
     "output_type": "execute_result"
    }
   ],
   "source": [
    "evaluate(encoder, decoder, 'what s up ?', input_lang, output_lang)[0]"
   ]
  },
  {
   "cell_type": "code",
   "execution_count": 77,
   "id": "2a006401-039b-434f-93c1-d506c11c2f00",
   "metadata": {},
   "outputs": [
    {
     "data": {
      "text/plain": [
       "['quien', 'es', 'la', 'culpa', '?', '<EOS>']"
      ]
     },
     "execution_count": 77,
     "metadata": {},
     "output_type": "execute_result"
    }
   ],
   "source": [
    "evaluate(encoder_attn, decoder_attn, 'who ?', input_lang, output_lang)[0]"
   ]
  },
  {
   "cell_type": "code",
   "execution_count": 78,
   "id": "a8cec798-cb29-4073-9c23-8f28853d0636",
   "metadata": {},
   "outputs": [
    {
     "data": {
      "text/plain": [
       "['quien', 'se', 'quien', 'es', '?', '<EOS>']"
      ]
     },
     "execution_count": 78,
     "metadata": {},
     "output_type": "execute_result"
    }
   ],
   "source": [
    "evaluate(encoder, decoder, 'who ?', input_lang, output_lang)[0]"
   ]
  },
  {
   "cell_type": "code",
   "execution_count": 98,
   "id": "360c5cf1-330f-4cac-95b0-960f8dcf99e2",
   "metadata": {},
   "outputs": [
    {
     "data": {
      "text/plain": [
       "['vayase', 'por', 'la', 'noche', '<EOS>']"
      ]
     },
     "execution_count": 98,
     "metadata": {},
     "output_type": "execute_result"
    }
   ],
   "source": [
    "evaluate(encoder_attn, decoder_attn, 'go', input_lang, output_lang)[0]"
   ]
  },
  {
   "cell_type": "code",
   "execution_count": 99,
   "id": "a90fd6b2-1067-4701-a04d-5faedd5d93f3",
   "metadata": {},
   "outputs": [
    {
     "data": {
      "text/plain": [
       "['anda', 'en', 'ir', '<EOS>']"
      ]
     },
     "execution_count": 99,
     "metadata": {},
     "output_type": "execute_result"
    }
   ],
   "source": [
    "evaluate(encoder, decoder, 'go', input_lang, output_lang)[0]"
   ]
  },
  {
   "cell_type": "code",
   "execution_count": 92,
   "id": "a7dc1f8a-582b-4837-8022-7869c8bc84a8",
   "metadata": {},
   "outputs": [
    {
     "data": {
      "text/plain": [
       "['tengo', 'treinta', 'anos', 'edad', '<EOS>']"
      ]
     },
     "execution_count": 92,
     "metadata": {},
     "output_type": "execute_result"
    }
   ],
   "source": [
    "evaluate(encoder_attn, decoder_attn, 'i am thirty years old', input_lang, output_lang)[0]"
   ]
  },
  {
   "cell_type": "code",
   "execution_count": null,
   "id": "c3212acf-bc79-4b8b-bbbe-9e1996c441e3",
   "metadata": {},
   "outputs": [],
   "source": []
  },
  {
   "cell_type": "code",
   "execution_count": 88,
   "id": "18fb663d-e9c8-4dab-8e93-128cde510bff",
   "metadata": {},
   "outputs": [
    {
     "data": {
      "text/plain": [
       "['estoy', 'viviendo', 'y', 'dos', 'opciones', '<EOS>']"
      ]
     },
     "execution_count": 88,
     "metadata": {},
     "output_type": "execute_result"
    }
   ],
   "source": [
    "evaluate(encoder, decoder, 'i am thirty two years old', input_lang, output_lang)[0]"
   ]
  },
  {
   "cell_type": "code",
   "execution_count": 97,
   "id": "a065befc-70e8-4461-95ee-1fe71802317d",
   "metadata": {},
   "outputs": [
    {
     "data": {
      "text/plain": [
       "[['go', 've'],\n",
       " ['go', 'vete'],\n",
       " ['go', 'vaya'],\n",
       " ['go', 'vayase'],\n",
       " ['hi', 'hola'],\n",
       " ['run !', 'corre !'],\n",
       " ['run !', 'corran !'],\n",
       " ['run !', 'huye !'],\n",
       " ['run !', 'corra !'],\n",
       " ['run !', 'corred !']]"
      ]
     },
     "execution_count": 97,
     "metadata": {},
     "output_type": "execute_result"
    }
   ],
   "source": [
    "pairs[:10]"
   ]
  },
  {
   "cell_type": "markdown",
   "id": "9ec8b571-a8fd-4ee4-91f0-430734defe52",
   "metadata": {},
   "source": [
    "### Visualizing attention"
   ]
  },
  {
   "cell_type": "code",
   "execution_count": 113,
   "id": "00cd4e5e-0760-4ea6-8091-37fa6da675c7",
   "metadata": {},
   "outputs": [],
   "source": [
    "def showAttention(input_sentence, output_words, attentions):\n",
    "    fig = plt.figure()\n",
    "    ax = fig.add_subplot(111)\n",
    "    cax = ax.matshow(attentions.cpu().numpy(), cmap='bone')\n",
    "    fig.colorbar(cax)\n",
    "\n",
    "    # Set up axes\n",
    "    ax.set_xticklabels([''] + input_sentence.split(' ') +\n",
    "                       ['<EOS>'], rotation=90)\n",
    "    ax.set_yticklabels([''] + output_words)\n",
    "\n",
    "    # Show label at every tick\n",
    "    ax.xaxis.set_major_locator(ticker.MultipleLocator(1))\n",
    "    ax.yaxis.set_major_locator(ticker.MultipleLocator(1))\n",
    "\n",
    "    plt.show()\n",
    "\n",
    "\n",
    "def evaluateAndShowAttention(input_sentence):\n",
    "    output_words, attentions = evaluate(encoder_attn, decoder_attn, input_sentence, input_lang, output_lang)\n",
    "    print('input =', input_sentence)\n",
    "    print('output =', ' '.join(output_words))\n",
    "    showAttention(input_sentence, output_words, attentions[0, :len(output_words), :])"
   ]
  },
  {
   "cell_type": "code",
   "execution_count": 122,
   "id": "6a396f0a-7a32-4516-9efe-aed9e4166ae3",
   "metadata": {},
   "outputs": [
    {
     "name": "stdout",
     "output_type": "stream",
     "text": [
      "input = so what ?\n",
      "output = entonces que lo que ? <EOS>\n"
     ]
    },
    {
     "name": "stderr",
     "output_type": "stream",
     "text": [
      "/var/folders/nh/g297r9mj48l7bfzrbr59bg4m0000gn/T/ipykernel_55123/863452007.py:8: UserWarning: set_ticklabels() should only be used with a fixed number of ticks, i.e. after set_ticks() or using a FixedLocator.\n",
      "  ax.set_xticklabels([''] + input_sentence.split(' ') +\n",
      "/var/folders/nh/g297r9mj48l7bfzrbr59bg4m0000gn/T/ipykernel_55123/863452007.py:10: UserWarning: set_ticklabels() should only be used with a fixed number of ticks, i.e. after set_ticks() or using a FixedLocator.\n",
      "  ax.set_yticklabels([''] + output_words)\n"
     ]
    },
    {
     "data": {
      "image/png": "[encoded data removed]",
      "text/plain": [
       "<Figure size 640x480 with 2 Axes>"
      ]
     },
     "metadata": {},
     "output_type": "display_data"
    }
   ],
   "source": [
    "evaluateAndShowAttention('so what ?')"
   ]
  },
  {
   "cell_type": "code",
   "execution_count": null,
   "id": "28fb3697-dfac-4936-a66d-616235ca2884",
   "metadata": {},
   "outputs": [],
   "source": []
  }
 ],
 "metadata": {
  "kernelspec": {
   "display_name": "Python 3 (ipykernel)",
   "language": "python",
   "name": "python3"
  },
  "language_info": {
   "codemirror_mode": {
    "name": "ipython",
    "version": 3
   },
   "file_extension": ".py",
   "mimetype": "text/x-python",
   "name": "python",
   "nbconvert_exporter": "python",
   "pygments_lexer": "ipython3",
   "version": "3.12.4"
  }
 },
 "nbformat": 4,
 "nbformat_minor": 5
}
